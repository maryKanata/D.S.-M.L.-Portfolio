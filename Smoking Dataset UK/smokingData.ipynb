{
 "cells": [
  {
   "cell_type": "markdown",
   "id": "3dd3165c",
   "metadata": {},
   "source": [
    "Survey data on smoking habits from the UK. The objective is to predict whether a person smokes or not using Support Vector Machines."
   ]
  },
  {
   "cell_type": "code",
   "execution_count": 2,
   "id": "602de3e5",
   "metadata": {},
   "outputs": [],
   "source": [
    "# Load the libraries\n",
    "import pandas as pd"
   ]
  },
  {
   "cell_type": "code",
   "execution_count": 3,
   "id": "79fada3a",
   "metadata": {},
   "outputs": [],
   "source": [
    "# Read the dataset as dataframe\n",
    "df = pd.read_csv('smoking.csv')"
   ]
  },
  {
   "cell_type": "code",
   "execution_count": 4,
   "id": "a7f8a318",
   "metadata": {},
   "outputs": [
    {
     "data": {
      "text/html": [
       "<div>\n",
       "<style scoped>\n",
       "    .dataframe tbody tr th:only-of-type {\n",
       "        vertical-align: middle;\n",
       "    }\n",
       "\n",
       "    .dataframe tbody tr th {\n",
       "        vertical-align: top;\n",
       "    }\n",
       "\n",
       "    .dataframe thead th {\n",
       "        text-align: right;\n",
       "    }\n",
       "</style>\n",
       "<table border=\"1\" class=\"dataframe\">\n",
       "  <thead>\n",
       "    <tr style=\"text-align: right;\">\n",
       "      <th></th>\n",
       "      <th>Unnamed: 0</th>\n",
       "      <th>gender</th>\n",
       "      <th>age</th>\n",
       "      <th>marital_status</th>\n",
       "      <th>highest_qualification</th>\n",
       "      <th>nationality</th>\n",
       "      <th>ethnicity</th>\n",
       "      <th>gross_income</th>\n",
       "      <th>region</th>\n",
       "      <th>smoke</th>\n",
       "      <th>amt_weekends</th>\n",
       "      <th>amt_weekdays</th>\n",
       "      <th>type</th>\n",
       "    </tr>\n",
       "  </thead>\n",
       "  <tbody>\n",
       "    <tr>\n",
       "      <th>0</th>\n",
       "      <td>1</td>\n",
       "      <td>Male</td>\n",
       "      <td>38</td>\n",
       "      <td>Divorced</td>\n",
       "      <td>No Qualification</td>\n",
       "      <td>British</td>\n",
       "      <td>White</td>\n",
       "      <td>2,600 to 5,200</td>\n",
       "      <td>The North</td>\n",
       "      <td>No</td>\n",
       "      <td>NaN</td>\n",
       "      <td>NaN</td>\n",
       "      <td>NaN</td>\n",
       "    </tr>\n",
       "    <tr>\n",
       "      <th>1</th>\n",
       "      <td>2</td>\n",
       "      <td>Female</td>\n",
       "      <td>42</td>\n",
       "      <td>Single</td>\n",
       "      <td>No Qualification</td>\n",
       "      <td>British</td>\n",
       "      <td>White</td>\n",
       "      <td>Under 2,600</td>\n",
       "      <td>The North</td>\n",
       "      <td>Yes</td>\n",
       "      <td>12.0</td>\n",
       "      <td>12.0</td>\n",
       "      <td>Packets</td>\n",
       "    </tr>\n",
       "    <tr>\n",
       "      <th>2</th>\n",
       "      <td>3</td>\n",
       "      <td>Male</td>\n",
       "      <td>40</td>\n",
       "      <td>Married</td>\n",
       "      <td>Degree</td>\n",
       "      <td>English</td>\n",
       "      <td>White</td>\n",
       "      <td>28,600 to 36,400</td>\n",
       "      <td>The North</td>\n",
       "      <td>No</td>\n",
       "      <td>NaN</td>\n",
       "      <td>NaN</td>\n",
       "      <td>NaN</td>\n",
       "    </tr>\n",
       "    <tr>\n",
       "      <th>3</th>\n",
       "      <td>4</td>\n",
       "      <td>Female</td>\n",
       "      <td>40</td>\n",
       "      <td>Married</td>\n",
       "      <td>Degree</td>\n",
       "      <td>English</td>\n",
       "      <td>White</td>\n",
       "      <td>10,400 to 15,600</td>\n",
       "      <td>The North</td>\n",
       "      <td>No</td>\n",
       "      <td>NaN</td>\n",
       "      <td>NaN</td>\n",
       "      <td>NaN</td>\n",
       "    </tr>\n",
       "    <tr>\n",
       "      <th>4</th>\n",
       "      <td>5</td>\n",
       "      <td>Female</td>\n",
       "      <td>39</td>\n",
       "      <td>Married</td>\n",
       "      <td>GCSE/O Level</td>\n",
       "      <td>British</td>\n",
       "      <td>White</td>\n",
       "      <td>2,600 to 5,200</td>\n",
       "      <td>The North</td>\n",
       "      <td>No</td>\n",
       "      <td>NaN</td>\n",
       "      <td>NaN</td>\n",
       "      <td>NaN</td>\n",
       "    </tr>\n",
       "  </tbody>\n",
       "</table>\n",
       "</div>"
      ],
      "text/plain": [
       "   Unnamed: 0  gender  age marital_status highest_qualification nationality  \\\n",
       "0           1    Male   38       Divorced      No Qualification     British   \n",
       "1           2  Female   42         Single      No Qualification     British   \n",
       "2           3    Male   40        Married                Degree     English   \n",
       "3           4  Female   40        Married                Degree     English   \n",
       "4           5  Female   39        Married          GCSE/O Level     British   \n",
       "\n",
       "  ethnicity      gross_income     region smoke  amt_weekends  amt_weekdays  \\\n",
       "0     White    2,600 to 5,200  The North    No           NaN           NaN   \n",
       "1     White       Under 2,600  The North   Yes          12.0          12.0   \n",
       "2     White  28,600 to 36,400  The North    No           NaN           NaN   \n",
       "3     White  10,400 to 15,600  The North    No           NaN           NaN   \n",
       "4     White    2,600 to 5,200  The North    No           NaN           NaN   \n",
       "\n",
       "      type  \n",
       "0      NaN  \n",
       "1  Packets  \n",
       "2      NaN  \n",
       "3      NaN  \n",
       "4      NaN  "
      ]
     },
     "execution_count": 4,
     "metadata": {},
     "output_type": "execute_result"
    }
   ],
   "source": [
    "# A brief overview\n",
    "df.head()"
   ]
  },
  {
   "cell_type": "code",
   "execution_count": 42,
   "id": "2d151a5a",
   "metadata": {},
   "outputs": [
    {
     "data": {
      "text/plain": [
       "(1670, 9)"
      ]
     },
     "execution_count": 42,
     "metadata": {},
     "output_type": "execute_result"
    }
   ],
   "source": [
    "# Dataset's dimension\n",
    "df.shape"
   ]
  },
  {
   "cell_type": "code",
   "execution_count": 6,
   "id": "79bcabef",
   "metadata": {},
   "outputs": [
    {
     "name": "stdout",
     "output_type": "stream",
     "text": [
      "<class 'pandas.core.frame.DataFrame'>\n",
      "RangeIndex: 1691 entries, 0 to 1690\n",
      "Data columns (total 13 columns):\n",
      " #   Column                 Non-Null Count  Dtype  \n",
      "---  ------                 --------------  -----  \n",
      " 0   Unnamed: 0             1691 non-null   int64  \n",
      " 1   gender                 1691 non-null   object \n",
      " 2   age                    1691 non-null   int64  \n",
      " 3   marital_status         1691 non-null   object \n",
      " 4   highest_qualification  1691 non-null   object \n",
      " 5   nationality            1691 non-null   object \n",
      " 6   ethnicity              1691 non-null   object \n",
      " 7   gross_income           1691 non-null   object \n",
      " 8   region                 1691 non-null   object \n",
      " 9   smoke                  1691 non-null   object \n",
      " 10  amt_weekends           421 non-null    float64\n",
      " 11  amt_weekdays           421 non-null    float64\n",
      " 12  type                   421 non-null    object \n",
      "dtypes: float64(2), int64(2), object(9)\n",
      "memory usage: 171.9+ KB\n"
     ]
    }
   ],
   "source": [
    "# A brief piece of information\n",
    "df.info()"
   ]
  },
  {
   "cell_type": "code",
   "execution_count": 7,
   "id": "97601b60",
   "metadata": {},
   "outputs": [],
   "source": [
    "# Remove amt_weekends, amt_weekdays, type \n",
    "#cause we have the 25% of not null values\n",
    "df.drop(columns=['amt_weekends','amt_weekdays', \n",
    "                 'type'],axis=0, inplace=True)"
   ]
  },
  {
   "cell_type": "code",
   "execution_count": 8,
   "id": "dc87e223",
   "metadata": {},
   "outputs": [
    {
     "data": {
      "text/plain": [
       "Unnamed: 0               0\n",
       "gender                   0\n",
       "age                      0\n",
       "marital_status           0\n",
       "highest_qualification    0\n",
       "nationality              0\n",
       "ethnicity                0\n",
       "gross_income             0\n",
       "region                   0\n",
       "smoke                    0\n",
       "dtype: int64"
      ]
     },
     "execution_count": 8,
     "metadata": {},
     "output_type": "execute_result"
    }
   ],
   "source": [
    "# Are any null values?\n",
    "df.isnull().sum()"
   ]
  },
  {
   "cell_type": "code",
   "execution_count": 38,
   "id": "f97fcfae",
   "metadata": {},
   "outputs": [
    {
     "data": {
      "text/plain": [
       "21"
      ]
     },
     "execution_count": 38,
     "metadata": {},
     "output_type": "execute_result"
    }
   ],
   "source": [
    "# How many dublicated values?\n",
    "df.duplicated().sum()"
   ]
  },
  {
   "cell_type": "code",
   "execution_count": 41,
   "id": "96821b3b",
   "metadata": {},
   "outputs": [],
   "source": [
    "# Drop the 21 dublicated values\n",
    "df.drop_duplicates(inplace=True)"
   ]
  },
  {
   "cell_type": "code",
   "execution_count": 9,
   "id": "7462782f",
   "metadata": {},
   "outputs": [],
   "source": [
    "#Remove the Unnamed: 0 column because it does not add value \n",
    "df.drop(columns=['Unnamed: 0'], axis=0, inplace=True)"
   ]
  },
  {
   "cell_type": "code",
   "execution_count": 10,
   "id": "76ee225a",
   "metadata": {},
   "outputs": [],
   "source": [
    "# Converting objects to integers\n",
    "smoke_map = {\"Yes\": 0, \"No\": 1}\n",
    "df[\"smoke\"] = df[\"smoke\"].map(smoke_map)"
   ]
  },
  {
   "cell_type": "code",
   "execution_count": 11,
   "id": "3db5e9f0",
   "metadata": {},
   "outputs": [],
   "source": [
    "gender_map = {\"Male\": 0, \"Female\": 1}\n",
    "df[\"gender\"] = df[\"gender\"].map(gender_map)"
   ]
  },
  {
   "cell_type": "code",
   "execution_count": 12,
   "id": "9deebc87",
   "metadata": {},
   "outputs": [],
   "source": [
    "marital_map = {\"Married\": 0, \"Single\": 1, \"Widowed\": 2, \n",
    "               \"Divorced\": 3, \"Separated\": 4}\n",
    "df[\"marital_status\"] = df[\"marital_status\"].map(marital_map)"
   ]
  },
  {
   "cell_type": "code",
   "execution_count": 13,
   "id": "06d4e11c",
   "metadata": {},
   "outputs": [],
   "source": [
    "# Import required library\n",
    "from sklearn.preprocessing import LabelEncoder"
   ]
  },
  {
   "cell_type": "code",
   "execution_count": 14,
   "id": "72b53619",
   "metadata": {},
   "outputs": [],
   "source": [
    "# Create LabelEncoder object\n",
    "encoder = LabelEncoder()"
   ]
  },
  {
   "cell_type": "code",
   "execution_count": 15,
   "id": "d66eef66",
   "metadata": {},
   "outputs": [],
   "source": [
    "# Apply label encoding to \"highest_qualification\" feature\n",
    "df[\"highest_qualification\"] = encoder.fit_transform(df[\"highest_qualification\"])"
   ]
  },
  {
   "cell_type": "code",
   "execution_count": 16,
   "id": "8dfb3a2e",
   "metadata": {},
   "outputs": [],
   "source": [
    "# Apply label encoding to \"nationality\" feature\n",
    "df[\"nationality\"] = encoder.fit_transform(df[\"nationality\"])"
   ]
  },
  {
   "cell_type": "code",
   "execution_count": 17,
   "id": "e94a4543",
   "metadata": {},
   "outputs": [],
   "source": [
    "# Apply label encoding to \"ethnicity\" feature\n",
    "df[\"ethnicity\"] = encoder.fit_transform(df[\"ethnicity\"])"
   ]
  },
  {
   "cell_type": "code",
   "execution_count": 18,
   "id": "263d6f46",
   "metadata": {},
   "outputs": [],
   "source": [
    "# Apply label encoding to \"gross_income\" feature\n",
    "df[\"gross_income\"] = encoder.fit_transform(df[\"gross_income\"])"
   ]
  },
  {
   "cell_type": "code",
   "execution_count": 19,
   "id": "824e9b3d",
   "metadata": {},
   "outputs": [],
   "source": [
    "# Apply label encoding to \"region\" feature\n",
    "df[\"region\"] = encoder.fit_transform(df[\"region\"])"
   ]
  },
  {
   "cell_type": "code",
   "execution_count": 32,
   "id": "fc0bae6d",
   "metadata": {},
   "outputs": [],
   "source": [
    "# Import required libraries\n",
    "from sklearn.model_selection import train_test_split\n",
    "from sklearn.svm import SVC\n",
    "from sklearn.metrics import accuracy_score, precision_score, recall_score, f1_score "
   ]
  },
  {
   "cell_type": "code",
   "execution_count": 43,
   "id": "7c3b277a",
   "metadata": {},
   "outputs": [],
   "source": [
    "# Feature dataframe & target column\n",
    "X = df.drop(columns=['smoke'], axis=0)\n",
    "y = df['smoke']"
   ]
  },
  {
   "cell_type": "code",
   "execution_count": 44,
   "id": "26642931",
   "metadata": {},
   "outputs": [],
   "source": [
    "# Split data into training and testing sets\n",
    "X_train, X_test, y_train, y_test = train_test_split(X, y,\n",
    "                                                    test_size=0.2, \n",
    "                                                    random_state=42)"
   ]
  },
  {
   "cell_type": "code",
   "execution_count": 45,
   "id": "30bdd1e3",
   "metadata": {},
   "outputs": [],
   "source": [
    "# Create SVM object with linear kernel\n",
    "svm = SVC(kernel='rbf', gamma=0.1)"
   ]
  },
  {
   "cell_type": "code",
   "execution_count": 46,
   "id": "a1e37424",
   "metadata": {},
   "outputs": [
    {
     "data": {
      "text/plain": [
       "SVC(gamma=0.1)"
      ]
     },
     "execution_count": 46,
     "metadata": {},
     "output_type": "execute_result"
    }
   ],
   "source": [
    "# Train SVM model on training data\n",
    "svm.fit(X_train, y_train)"
   ]
  },
  {
   "cell_type": "code",
   "execution_count": 47,
   "id": "bd9954c6",
   "metadata": {},
   "outputs": [],
   "source": [
    "# Make predictions on test data\n",
    "y_pred = svm.predict(X_test)"
   ]
  },
  {
   "cell_type": "code",
   "execution_count": 48,
   "id": "56631e33",
   "metadata": {},
   "outputs": [],
   "source": [
    "# Evaluate accuracy of predictions\n",
    "accuracy = accuracy_score(y_test, y_pred)"
   ]
  },
  {
   "cell_type": "code",
   "execution_count": 49,
   "id": "b42e1f7b",
   "metadata": {},
   "outputs": [
    {
     "name": "stdout",
     "output_type": "stream",
     "text": [
      "Accuracy: 0.75\n"
     ]
    }
   ],
   "source": [
    "# Print accuracy score\n",
    "print(\"Accuracy: {:.2f}\".format(accuracy))"
   ]
  },
  {
   "cell_type": "markdown",
   "id": "cf2a0f0e",
   "metadata": {},
   "source": [
    "The above metric means that out of all the samples in this dataset, 75% of them were classified correctly by SVM model as either smoke or non-smoke."
   ]
  },
  {
   "cell_type": "code",
   "execution_count": 50,
   "id": "f53e3b98",
   "metadata": {},
   "outputs": [],
   "source": [
    "precision = precision_score(y_test, y_pred)\n",
    "recall = recall_score(y_test, y_pred)\n",
    "f1 = f1_score(y_test, y_pred)"
   ]
  },
  {
   "cell_type": "code",
   "execution_count": 51,
   "id": "3785e258",
   "metadata": {},
   "outputs": [
    {
     "name": "stdout",
     "output_type": "stream",
     "text": [
      "Precision: 0.77\n",
      "Recall: 0.96\n",
      "F1-score: 0.85\n"
     ]
    }
   ],
   "source": [
    "# Print the results\n",
    "print(\"Precision: {:.2f}\".format(precision))\n",
    "print(\"Recall: {:.2f}\".format(recall))\n",
    "print(\"F1-score: {:.2f}\".format(f1))"
   ]
  },
  {
   "cell_type": "markdown",
   "id": "7c1b74fd",
   "metadata": {},
   "source": [
    "Precision is 0.77, which means that out of all the samples that SVM model predicted as positive (i.e., smoke), 76% of them were actually positive, while the rest were false positives.\n",
    "\n",
    "Recall is 0.96, which means that out of all the actual positive samples in the dataset, the SVM model correctly identified almost every of them as positive.\n",
    "\n",
    "F1-score is 0.85, which is the harmonic mean of precision and recall, taking both metrics into account. It indicates the balance between precision and recall, with higher values indicating better overall performance.\n",
    "\n",
    "So, taking all the above metrics into acount, the selected model has a well-performance"
   ]
  },
  {
   "cell_type": "code",
   "execution_count": null,
   "id": "84d2fb54",
   "metadata": {},
   "outputs": [],
   "source": []
  }
 ],
 "metadata": {
  "kernelspec": {
   "display_name": "Python 3 (ipykernel)",
   "language": "python",
   "name": "python3"
  },
  "language_info": {
   "codemirror_mode": {
    "name": "ipython",
    "version": 3
   },
   "file_extension": ".py",
   "mimetype": "text/x-python",
   "name": "python",
   "nbconvert_exporter": "python",
   "pygments_lexer": "ipython3",
   "version": "3.9.13"
  }
 },
 "nbformat": 4,
 "nbformat_minor": 5
}
