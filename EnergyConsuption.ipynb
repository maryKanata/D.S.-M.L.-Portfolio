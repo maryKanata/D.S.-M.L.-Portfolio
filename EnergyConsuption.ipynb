{
  "nbformat": 4,
  "nbformat_minor": 0,
  "metadata": {
    "colab": {
      "provenance": [],
      "authorship_tag": "ABX9TyOUQDa0LvszpJpC+3jPpcH9",
      "include_colab_link": true
    },
    "kernelspec": {
      "name": "python3",
      "display_name": "Python 3"
    },
    "language_info": {
      "name": "python"
    }
  },
  "cells": [
    {
      "cell_type": "markdown",
      "metadata": {
        "id": "view-in-github",
        "colab_type": "text"
      },
      "source": [
        "<a href=\"https://colab.research.google.com/github/maryKanata/D.S.-M.L.-Portfolio/blob/main/EnergyConsuption.ipynb\" target=\"_parent\"><img src=\"https://colab.research.google.com/assets/colab-badge.svg\" alt=\"Open In Colab\"/></a>"
      ]
    },
    {
      "cell_type": "code",
      "execution_count": 1,
      "metadata": {
        "id": "vrTD5jkw2JUd"
      },
      "outputs": [],
      "source": [
        "#Import required libraries\n",
        "import pandas as pd\n",
        "import numpy as np"
      ]
    },
    {
      "cell_type": "code",
      "source": [
        "#Load dataset as dataframe\n",
        "from google.colab import files\n",
        "uploaded = files.upload()"
      ],
      "metadata": {
        "colab": {
          "base_uri": "https://localhost:8080/",
          "height": 73
        },
        "id": "Q4l3gN1W2hZJ",
        "outputId": "11b6bbd7-45d2-4f09-8292-74ed2e50de30"
      },
      "execution_count": null,
      "outputs": [
        {
          "output_type": "display_data",
          "data": {
            "text/plain": [
              "<IPython.core.display.HTML object>"
            ],
            "text/html": [
              "\n",
              "     <input type=\"file\" id=\"files-ae4cdb52-16a6-4089-8b4f-841420df9b25\" name=\"files[]\" multiple disabled\n",
              "        style=\"border:none\" />\n",
              "     <output id=\"result-ae4cdb52-16a6-4089-8b4f-841420df9b25\">\n",
              "      Upload widget is only available when the cell has been executed in the\n",
              "      current browser session. Please rerun this cell to enable.\n",
              "      </output>\n",
              "      <script>// Copyright 2017 Google LLC\n",
              "//\n",
              "// Licensed under the Apache License, Version 2.0 (the \"License\");\n",
              "// you may not use this file except in compliance with the License.\n",
              "// You may obtain a copy of the License at\n",
              "//\n",
              "//      http://www.apache.org/licenses/LICENSE-2.0\n",
              "//\n",
              "// Unless required by applicable law or agreed to in writing, software\n",
              "// distributed under the License is distributed on an \"AS IS\" BASIS,\n",
              "// WITHOUT WARRANTIES OR CONDITIONS OF ANY KIND, either express or implied.\n",
              "// See the License for the specific language governing permissions and\n",
              "// limitations under the License.\n",
              "\n",
              "/**\n",
              " * @fileoverview Helpers for google.colab Python module.\n",
              " */\n",
              "(function(scope) {\n",
              "function span(text, styleAttributes = {}) {\n",
              "  const element = document.createElement('span');\n",
              "  element.textContent = text;\n",
              "  for (const key of Object.keys(styleAttributes)) {\n",
              "    element.style[key] = styleAttributes[key];\n",
              "  }\n",
              "  return element;\n",
              "}\n",
              "\n",
              "// Max number of bytes which will be uploaded at a time.\n",
              "const MAX_PAYLOAD_SIZE = 100 * 1024;\n",
              "\n",
              "function _uploadFiles(inputId, outputId) {\n",
              "  const steps = uploadFilesStep(inputId, outputId);\n",
              "  const outputElement = document.getElementById(outputId);\n",
              "  // Cache steps on the outputElement to make it available for the next call\n",
              "  // to uploadFilesContinue from Python.\n",
              "  outputElement.steps = steps;\n",
              "\n",
              "  return _uploadFilesContinue(outputId);\n",
              "}\n",
              "\n",
              "// This is roughly an async generator (not supported in the browser yet),\n",
              "// where there are multiple asynchronous steps and the Python side is going\n",
              "// to poll for completion of each step.\n",
              "// This uses a Promise to block the python side on completion of each step,\n",
              "// then passes the result of the previous step as the input to the next step.\n",
              "function _uploadFilesContinue(outputId) {\n",
              "  const outputElement = document.getElementById(outputId);\n",
              "  const steps = outputElement.steps;\n",
              "\n",
              "  const next = steps.next(outputElement.lastPromiseValue);\n",
              "  return Promise.resolve(next.value.promise).then((value) => {\n",
              "    // Cache the last promise value to make it available to the next\n",
              "    // step of the generator.\n",
              "    outputElement.lastPromiseValue = value;\n",
              "    return next.value.response;\n",
              "  });\n",
              "}\n",
              "\n",
              "/**\n",
              " * Generator function which is called between each async step of the upload\n",
              " * process.\n",
              " * @param {string} inputId Element ID of the input file picker element.\n",
              " * @param {string} outputId Element ID of the output display.\n",
              " * @return {!Iterable<!Object>} Iterable of next steps.\n",
              " */\n",
              "function* uploadFilesStep(inputId, outputId) {\n",
              "  const inputElement = document.getElementById(inputId);\n",
              "  inputElement.disabled = false;\n",
              "\n",
              "  const outputElement = document.getElementById(outputId);\n",
              "  outputElement.innerHTML = '';\n",
              "\n",
              "  const pickedPromise = new Promise((resolve) => {\n",
              "    inputElement.addEventListener('change', (e) => {\n",
              "      resolve(e.target.files);\n",
              "    });\n",
              "  });\n",
              "\n",
              "  const cancel = document.createElement('button');\n",
              "  inputElement.parentElement.appendChild(cancel);\n",
              "  cancel.textContent = 'Cancel upload';\n",
              "  const cancelPromise = new Promise((resolve) => {\n",
              "    cancel.onclick = () => {\n",
              "      resolve(null);\n",
              "    };\n",
              "  });\n",
              "\n",
              "  // Wait for the user to pick the files.\n",
              "  const files = yield {\n",
              "    promise: Promise.race([pickedPromise, cancelPromise]),\n",
              "    response: {\n",
              "      action: 'starting',\n",
              "    }\n",
              "  };\n",
              "\n",
              "  cancel.remove();\n",
              "\n",
              "  // Disable the input element since further picks are not allowed.\n",
              "  inputElement.disabled = true;\n",
              "\n",
              "  if (!files) {\n",
              "    return {\n",
              "      response: {\n",
              "        action: 'complete',\n",
              "      }\n",
              "    };\n",
              "  }\n",
              "\n",
              "  for (const file of files) {\n",
              "    const li = document.createElement('li');\n",
              "    li.append(span(file.name, {fontWeight: 'bold'}));\n",
              "    li.append(span(\n",
              "        `(${file.type || 'n/a'}) - ${file.size} bytes, ` +\n",
              "        `last modified: ${\n",
              "            file.lastModifiedDate ? file.lastModifiedDate.toLocaleDateString() :\n",
              "                                    'n/a'} - `));\n",
              "    const percent = span('0% done');\n",
              "    li.appendChild(percent);\n",
              "\n",
              "    outputElement.appendChild(li);\n",
              "\n",
              "    const fileDataPromise = new Promise((resolve) => {\n",
              "      const reader = new FileReader();\n",
              "      reader.onload = (e) => {\n",
              "        resolve(e.target.result);\n",
              "      };\n",
              "      reader.readAsArrayBuffer(file);\n",
              "    });\n",
              "    // Wait for the data to be ready.\n",
              "    let fileData = yield {\n",
              "      promise: fileDataPromise,\n",
              "      response: {\n",
              "        action: 'continue',\n",
              "      }\n",
              "    };\n",
              "\n",
              "    // Use a chunked sending to avoid message size limits. See b/62115660.\n",
              "    let position = 0;\n",
              "    do {\n",
              "      const length = Math.min(fileData.byteLength - position, MAX_PAYLOAD_SIZE);\n",
              "      const chunk = new Uint8Array(fileData, position, length);\n",
              "      position += length;\n",
              "\n",
              "      const base64 = btoa(String.fromCharCode.apply(null, chunk));\n",
              "      yield {\n",
              "        response: {\n",
              "          action: 'append',\n",
              "          file: file.name,\n",
              "          data: base64,\n",
              "        },\n",
              "      };\n",
              "\n",
              "      let percentDone = fileData.byteLength === 0 ?\n",
              "          100 :\n",
              "          Math.round((position / fileData.byteLength) * 100);\n",
              "      percent.textContent = `${percentDone}% done`;\n",
              "\n",
              "    } while (position < fileData.byteLength);\n",
              "  }\n",
              "\n",
              "  // All done.\n",
              "  yield {\n",
              "    response: {\n",
              "      action: 'complete',\n",
              "    }\n",
              "  };\n",
              "}\n",
              "\n",
              "scope.google = scope.google || {};\n",
              "scope.google.colab = scope.google.colab || {};\n",
              "scope.google.colab._files = {\n",
              "  _uploadFiles,\n",
              "  _uploadFilesContinue,\n",
              "};\n",
              "})(self);\n",
              "</script> "
            ]
          },
          "metadata": {}
        },
        {
          "output_type": "stream",
          "name": "stdout",
          "text": [
            "Saving KAG_energydata_complete.csv to KAG_energydata_complete.csv\n"
          ]
        }
      ]
    },
    {
      "cell_type": "code",
      "source": [
        "df = pd.read_csv('KAG_energydata_complete.csv')"
      ],
      "metadata": {
        "id": "AeZV54td2uBN"
      },
      "execution_count": null,
      "outputs": []
    },
    {
      "cell_type": "code",
      "source": [
        "#Short Overview\n",
        "df.head()"
      ],
      "metadata": {
        "colab": {
          "base_uri": "https://localhost:8080/",
          "height": 473
        },
        "id": "vhYPfGjk4FkS",
        "outputId": "c419bb18-65ca-4613-88a7-5d5eb10550c9"
      },
      "execution_count": null,
      "outputs": [
        {
          "output_type": "execute_result",
          "data": {
            "text/plain": [
              "                  date  Appliances  lights     T1       RH_1    T2       RH_2  \\\n",
              "0  2016-01-11 17:00:00          60      30  19.89  47.596667  19.2  44.790000   \n",
              "1  2016-01-11 17:10:00          60      30  19.89  46.693333  19.2  44.722500   \n",
              "2  2016-01-11 17:20:00          50      30  19.89  46.300000  19.2  44.626667   \n",
              "3  2016-01-11 17:30:00          50      40  19.89  46.066667  19.2  44.590000   \n",
              "4  2016-01-11 17:40:00          60      40  19.89  46.333333  19.2  44.530000   \n",
              "\n",
              "      T3       RH_3         T4  ...         T9   RH_9     T_out  Press_mm_hg  \\\n",
              "0  19.79  44.730000  19.000000  ...  17.033333  45.53  6.600000        733.5   \n",
              "1  19.79  44.790000  19.000000  ...  17.066667  45.56  6.483333        733.6   \n",
              "2  19.79  44.933333  18.926667  ...  17.000000  45.50  6.366667        733.7   \n",
              "3  19.79  45.000000  18.890000  ...  17.000000  45.40  6.250000        733.8   \n",
              "4  19.79  45.000000  18.890000  ...  17.000000  45.40  6.133333        733.9   \n",
              "\n",
              "   RH_out  Windspeed  Visibility  Tdewpoint        rv1        rv2  \n",
              "0    92.0   7.000000   63.000000        5.3  13.275433  13.275433  \n",
              "1    92.0   6.666667   59.166667        5.2  18.606195  18.606195  \n",
              "2    92.0   6.333333   55.333333        5.1  28.642668  28.642668  \n",
              "3    92.0   6.000000   51.500000        5.0  45.410389  45.410389  \n",
              "4    92.0   5.666667   47.666667        4.9  10.084097  10.084097  \n",
              "\n",
              "[5 rows x 29 columns]"
            ],
            "text/html": [
              "\n",
              "  <div id=\"df-7206b0c2-1640-4c5f-b163-f9b34f46f896\">\n",
              "    <div class=\"colab-df-container\">\n",
              "      <div>\n",
              "<style scoped>\n",
              "    .dataframe tbody tr th:only-of-type {\n",
              "        vertical-align: middle;\n",
              "    }\n",
              "\n",
              "    .dataframe tbody tr th {\n",
              "        vertical-align: top;\n",
              "    }\n",
              "\n",
              "    .dataframe thead th {\n",
              "        text-align: right;\n",
              "    }\n",
              "</style>\n",
              "<table border=\"1\" class=\"dataframe\">\n",
              "  <thead>\n",
              "    <tr style=\"text-align: right;\">\n",
              "      <th></th>\n",
              "      <th>date</th>\n",
              "      <th>Appliances</th>\n",
              "      <th>lights</th>\n",
              "      <th>T1</th>\n",
              "      <th>RH_1</th>\n",
              "      <th>T2</th>\n",
              "      <th>RH_2</th>\n",
              "      <th>T3</th>\n",
              "      <th>RH_3</th>\n",
              "      <th>T4</th>\n",
              "      <th>...</th>\n",
              "      <th>T9</th>\n",
              "      <th>RH_9</th>\n",
              "      <th>T_out</th>\n",
              "      <th>Press_mm_hg</th>\n",
              "      <th>RH_out</th>\n",
              "      <th>Windspeed</th>\n",
              "      <th>Visibility</th>\n",
              "      <th>Tdewpoint</th>\n",
              "      <th>rv1</th>\n",
              "      <th>rv2</th>\n",
              "    </tr>\n",
              "  </thead>\n",
              "  <tbody>\n",
              "    <tr>\n",
              "      <th>0</th>\n",
              "      <td>2016-01-11 17:00:00</td>\n",
              "      <td>60</td>\n",
              "      <td>30</td>\n",
              "      <td>19.89</td>\n",
              "      <td>47.596667</td>\n",
              "      <td>19.2</td>\n",
              "      <td>44.790000</td>\n",
              "      <td>19.79</td>\n",
              "      <td>44.730000</td>\n",
              "      <td>19.000000</td>\n",
              "      <td>...</td>\n",
              "      <td>17.033333</td>\n",
              "      <td>45.53</td>\n",
              "      <td>6.600000</td>\n",
              "      <td>733.5</td>\n",
              "      <td>92.0</td>\n",
              "      <td>7.000000</td>\n",
              "      <td>63.000000</td>\n",
              "      <td>5.3</td>\n",
              "      <td>13.275433</td>\n",
              "      <td>13.275433</td>\n",
              "    </tr>\n",
              "    <tr>\n",
              "      <th>1</th>\n",
              "      <td>2016-01-11 17:10:00</td>\n",
              "      <td>60</td>\n",
              "      <td>30</td>\n",
              "      <td>19.89</td>\n",
              "      <td>46.693333</td>\n",
              "      <td>19.2</td>\n",
              "      <td>44.722500</td>\n",
              "      <td>19.79</td>\n",
              "      <td>44.790000</td>\n",
              "      <td>19.000000</td>\n",
              "      <td>...</td>\n",
              "      <td>17.066667</td>\n",
              "      <td>45.56</td>\n",
              "      <td>6.483333</td>\n",
              "      <td>733.6</td>\n",
              "      <td>92.0</td>\n",
              "      <td>6.666667</td>\n",
              "      <td>59.166667</td>\n",
              "      <td>5.2</td>\n",
              "      <td>18.606195</td>\n",
              "      <td>18.606195</td>\n",
              "    </tr>\n",
              "    <tr>\n",
              "      <th>2</th>\n",
              "      <td>2016-01-11 17:20:00</td>\n",
              "      <td>50</td>\n",
              "      <td>30</td>\n",
              "      <td>19.89</td>\n",
              "      <td>46.300000</td>\n",
              "      <td>19.2</td>\n",
              "      <td>44.626667</td>\n",
              "      <td>19.79</td>\n",
              "      <td>44.933333</td>\n",
              "      <td>18.926667</td>\n",
              "      <td>...</td>\n",
              "      <td>17.000000</td>\n",
              "      <td>45.50</td>\n",
              "      <td>6.366667</td>\n",
              "      <td>733.7</td>\n",
              "      <td>92.0</td>\n",
              "      <td>6.333333</td>\n",
              "      <td>55.333333</td>\n",
              "      <td>5.1</td>\n",
              "      <td>28.642668</td>\n",
              "      <td>28.642668</td>\n",
              "    </tr>\n",
              "    <tr>\n",
              "      <th>3</th>\n",
              "      <td>2016-01-11 17:30:00</td>\n",
              "      <td>50</td>\n",
              "      <td>40</td>\n",
              "      <td>19.89</td>\n",
              "      <td>46.066667</td>\n",
              "      <td>19.2</td>\n",
              "      <td>44.590000</td>\n",
              "      <td>19.79</td>\n",
              "      <td>45.000000</td>\n",
              "      <td>18.890000</td>\n",
              "      <td>...</td>\n",
              "      <td>17.000000</td>\n",
              "      <td>45.40</td>\n",
              "      <td>6.250000</td>\n",
              "      <td>733.8</td>\n",
              "      <td>92.0</td>\n",
              "      <td>6.000000</td>\n",
              "      <td>51.500000</td>\n",
              "      <td>5.0</td>\n",
              "      <td>45.410389</td>\n",
              "      <td>45.410389</td>\n",
              "    </tr>\n",
              "    <tr>\n",
              "      <th>4</th>\n",
              "      <td>2016-01-11 17:40:00</td>\n",
              "      <td>60</td>\n",
              "      <td>40</td>\n",
              "      <td>19.89</td>\n",
              "      <td>46.333333</td>\n",
              "      <td>19.2</td>\n",
              "      <td>44.530000</td>\n",
              "      <td>19.79</td>\n",
              "      <td>45.000000</td>\n",
              "      <td>18.890000</td>\n",
              "      <td>...</td>\n",
              "      <td>17.000000</td>\n",
              "      <td>45.40</td>\n",
              "      <td>6.133333</td>\n",
              "      <td>733.9</td>\n",
              "      <td>92.0</td>\n",
              "      <td>5.666667</td>\n",
              "      <td>47.666667</td>\n",
              "      <td>4.9</td>\n",
              "      <td>10.084097</td>\n",
              "      <td>10.084097</td>\n",
              "    </tr>\n",
              "  </tbody>\n",
              "</table>\n",
              "<p>5 rows × 29 columns</p>\n",
              "</div>\n",
              "      <button class=\"colab-df-convert\" onclick=\"convertToInteractive('df-7206b0c2-1640-4c5f-b163-f9b34f46f896')\"\n",
              "              title=\"Convert this dataframe to an interactive table.\"\n",
              "              style=\"display:none;\">\n",
              "        \n",
              "  <svg xmlns=\"http://www.w3.org/2000/svg\" height=\"24px\"viewBox=\"0 0 24 24\"\n",
              "       width=\"24px\">\n",
              "    <path d=\"M0 0h24v24H0V0z\" fill=\"none\"/>\n",
              "    <path d=\"M18.56 5.44l.94 2.06.94-2.06 2.06-.94-2.06-.94-.94-2.06-.94 2.06-2.06.94zm-11 1L8.5 8.5l.94-2.06 2.06-.94-2.06-.94L8.5 2.5l-.94 2.06-2.06.94zm10 10l.94 2.06.94-2.06 2.06-.94-2.06-.94-.94-2.06-.94 2.06-2.06.94z\"/><path d=\"M17.41 7.96l-1.37-1.37c-.4-.4-.92-.59-1.43-.59-.52 0-1.04.2-1.43.59L10.3 9.45l-7.72 7.72c-.78.78-.78 2.05 0 2.83L4 21.41c.39.39.9.59 1.41.59.51 0 1.02-.2 1.41-.59l7.78-7.78 2.81-2.81c.8-.78.8-2.07 0-2.86zM5.41 20L4 18.59l7.72-7.72 1.47 1.35L5.41 20z\"/>\n",
              "  </svg>\n",
              "      </button>\n",
              "      \n",
              "  <style>\n",
              "    .colab-df-container {\n",
              "      display:flex;\n",
              "      flex-wrap:wrap;\n",
              "      gap: 12px;\n",
              "    }\n",
              "\n",
              "    .colab-df-convert {\n",
              "      background-color: #E8F0FE;\n",
              "      border: none;\n",
              "      border-radius: 50%;\n",
              "      cursor: pointer;\n",
              "      display: none;\n",
              "      fill: #1967D2;\n",
              "      height: 32px;\n",
              "      padding: 0 0 0 0;\n",
              "      width: 32px;\n",
              "    }\n",
              "\n",
              "    .colab-df-convert:hover {\n",
              "      background-color: #E2EBFA;\n",
              "      box-shadow: 0px 1px 2px rgba(60, 64, 67, 0.3), 0px 1px 3px 1px rgba(60, 64, 67, 0.15);\n",
              "      fill: #174EA6;\n",
              "    }\n",
              "\n",
              "    [theme=dark] .colab-df-convert {\n",
              "      background-color: #3B4455;\n",
              "      fill: #D2E3FC;\n",
              "    }\n",
              "\n",
              "    [theme=dark] .colab-df-convert:hover {\n",
              "      background-color: #434B5C;\n",
              "      box-shadow: 0px 1px 3px 1px rgba(0, 0, 0, 0.15);\n",
              "      filter: drop-shadow(0px 1px 2px rgba(0, 0, 0, 0.3));\n",
              "      fill: #FFFFFF;\n",
              "    }\n",
              "  </style>\n",
              "\n",
              "      <script>\n",
              "        const buttonEl =\n",
              "          document.querySelector('#df-7206b0c2-1640-4c5f-b163-f9b34f46f896 button.colab-df-convert');\n",
              "        buttonEl.style.display =\n",
              "          google.colab.kernel.accessAllowed ? 'block' : 'none';\n",
              "\n",
              "        async function convertToInteractive(key) {\n",
              "          const element = document.querySelector('#df-7206b0c2-1640-4c5f-b163-f9b34f46f896');\n",
              "          const dataTable =\n",
              "            await google.colab.kernel.invokeFunction('convertToInteractive',\n",
              "                                                     [key], {});\n",
              "          if (!dataTable) return;\n",
              "\n",
              "          const docLinkHtml = 'Like what you see? Visit the ' +\n",
              "            '<a target=\"_blank\" href=https://colab.research.google.com/notebooks/data_table.ipynb>data table notebook</a>'\n",
              "            + ' to learn more about interactive tables.';\n",
              "          element.innerHTML = '';\n",
              "          dataTable['output_type'] = 'display_data';\n",
              "          await google.colab.output.renderOutput(dataTable, element);\n",
              "          const docLink = document.createElement('div');\n",
              "          docLink.innerHTML = docLinkHtml;\n",
              "          element.appendChild(docLink);\n",
              "        }\n",
              "      </script>\n",
              "    </div>\n",
              "  </div>\n",
              "  "
            ]
          },
          "metadata": {},
          "execution_count": 5
        }
      ]
    },
    {
      "cell_type": "code",
      "source": [
        "#Show dimensions of dataframe\n",
        "df.shape"
      ],
      "metadata": {
        "colab": {
          "base_uri": "https://localhost:8080/"
        },
        "id": "a76y1bf34HUL",
        "outputId": "54b82d04-da69-40ff-8317-240e160a51fb"
      },
      "execution_count": null,
      "outputs": [
        {
          "output_type": "execute_result",
          "data": {
            "text/plain": [
              "(19735, 35)"
            ]
          },
          "metadata": {},
          "execution_count": 50
        }
      ]
    },
    {
      "cell_type": "code",
      "source": [
        "#Information's Data Frame\n",
        "df.info()"
      ],
      "metadata": {
        "colab": {
          "base_uri": "https://localhost:8080/"
        },
        "id": "q76gWDMt5PMd",
        "outputId": "ea9bded1-cfce-427e-f8fc-be18ab7c20bd"
      },
      "execution_count": null,
      "outputs": [
        {
          "output_type": "stream",
          "name": "stdout",
          "text": [
            "<class 'pandas.core.frame.DataFrame'>\n",
            "RangeIndex: 19735 entries, 0 to 19734\n",
            "Data columns (total 29 columns):\n",
            " #   Column       Non-Null Count  Dtype  \n",
            "---  ------       --------------  -----  \n",
            " 0   date         19735 non-null  object \n",
            " 1   Appliances   19735 non-null  int64  \n",
            " 2   lights       19735 non-null  int64  \n",
            " 3   T1           19735 non-null  float64\n",
            " 4   RH_1         19735 non-null  float64\n",
            " 5   T2           19735 non-null  float64\n",
            " 6   RH_2         19735 non-null  float64\n",
            " 7   T3           19735 non-null  float64\n",
            " 8   RH_3         19735 non-null  float64\n",
            " 9   T4           19735 non-null  float64\n",
            " 10  RH_4         19735 non-null  float64\n",
            " 11  T5           19735 non-null  float64\n",
            " 12  RH_5         19735 non-null  float64\n",
            " 13  T6           19735 non-null  float64\n",
            " 14  RH_6         19735 non-null  float64\n",
            " 15  T7           19735 non-null  float64\n",
            " 16  RH_7         19735 non-null  float64\n",
            " 17  T8           19735 non-null  float64\n",
            " 18  RH_8         19735 non-null  float64\n",
            " 19  T9           19735 non-null  float64\n",
            " 20  RH_9         19735 non-null  float64\n",
            " 21  T_out        19735 non-null  float64\n",
            " 22  Press_mm_hg  19735 non-null  float64\n",
            " 23  RH_out       19735 non-null  float64\n",
            " 24  Windspeed    19735 non-null  float64\n",
            " 25  Visibility   19735 non-null  float64\n",
            " 26  Tdewpoint    19735 non-null  float64\n",
            " 27  rv1          19735 non-null  float64\n",
            " 28  rv2          19735 non-null  float64\n",
            "dtypes: float64(26), int64(2), object(1)\n",
            "memory usage: 4.4+ MB\n"
          ]
        }
      ]
    },
    {
      "cell_type": "code",
      "source": [
        "# How many null values?\n",
        "df.isnull().sum().sum()"
      ],
      "metadata": {
        "colab": {
          "base_uri": "https://localhost:8080/"
        },
        "id": "ow3PTYiE5QwQ",
        "outputId": "07e5ace6-924e-4e7e-8187-ae0bb96dd03e"
      },
      "execution_count": null,
      "outputs": [
        {
          "output_type": "execute_result",
          "data": {
            "text/plain": [
              "0"
            ]
          },
          "metadata": {},
          "execution_count": 8
        }
      ]
    },
    {
      "cell_type": "code",
      "source": [
        "# How many dublicated values?\n",
        "df.duplicated().sum()"
      ],
      "metadata": {
        "colab": {
          "base_uri": "https://localhost:8080/"
        },
        "id": "YsChG0_U5S9H",
        "outputId": "53ce9b86-fe74-4f1a-ceda-f061961b5a63"
      },
      "execution_count": null,
      "outputs": [
        {
          "output_type": "execute_result",
          "data": {
            "text/plain": [
              "0"
            ]
          },
          "metadata": {},
          "execution_count": 9
        }
      ]
    },
    {
      "cell_type": "code",
      "source": [
        "# Convert object to date-time\n",
        "df['date'] = pd.to_datetime(df['date'])"
      ],
      "metadata": {
        "id": "N4nBNT6v5VUh"
      },
      "execution_count": null,
      "outputs": []
    },
    {
      "cell_type": "code",
      "source": [
        "# Round all columns to 2 decimal digits\n",
        "df = df.round(2)"
      ],
      "metadata": {
        "id": "fUpB0Hoe5X_E"
      },
      "execution_count": null,
      "outputs": []
    },
    {
      "cell_type": "code",
      "source": [
        "# Extract datetime features\n",
        "df['year'] = df['date'].dt.year.astype(int)\n",
        "df['month'] = df['date'].dt.month.astype(int)\n",
        "df['day'] = df['date'].dt.day.astype(int)\n",
        "df['hour'] = df['date'].dt.hour.astype(int)\n",
        "df['minute'] = df['date'].dt.minute.astype(int)\n",
        "df['second'] = df['date'].dt.second.astype(int)"
      ],
      "metadata": {
        "id": "8_IPHrkA5Z7-"
      },
      "execution_count": null,
      "outputs": []
    },
    {
      "cell_type": "code",
      "source": [
        "# Defining the features and the target variable\n",
        "X = df.drop(columns=['Appliances','date'], axis=0)\n",
        "y = df['Appliances']"
      ],
      "metadata": {
        "id": "ybGcc-2e6B5R"
      },
      "execution_count": null,
      "outputs": []
    },
    {
      "cell_type": "code",
      "source": [
        "from sklearn.model_selection import train_test_split\n",
        "from sklearn.preprocessing import StandardScaler\n",
        "from tensorflow.keras.models import Sequential\n",
        "from tensorflow.keras.layers import Dense"
      ],
      "metadata": {
        "id": "BpgFHPm86XYf"
      },
      "execution_count": null,
      "outputs": []
    },
    {
      "cell_type": "code",
      "source": [
        "# Split data into training and testing sets\n",
        "X_train, X_test, y_train, y_test = train_test_split(X, y,\n",
        "                                                    test_size=0.2, \n",
        "                                                    random_state=43)"
      ],
      "metadata": {
        "id": "JYRIIHM_6bxC"
      },
      "execution_count": null,
      "outputs": []
    },
    {
      "cell_type": "code",
      "source": [
        "# Standardize the features\n",
        "scaler = StandardScaler()\n",
        "train_scaled = scaler.fit_transform(X_train)\n",
        "test_scaled = scaler.transform(X_test)"
      ],
      "metadata": {
        "id": "NAkFWOV_6k-L"
      },
      "execution_count": null,
      "outputs": []
    },
    {
      "cell_type": "code",
      "source": [
        "# Convert the target variable to a NumPy array\n",
        "y_train_array = y_train.values.reshape(-1, 1)\n",
        "y_test_array = y_test.values.reshape(-1, 1)"
      ],
      "metadata": {
        "id": "8AzSc_GlADXk"
      },
      "execution_count": null,
      "outputs": []
    },
    {
      "cell_type": "code",
      "source": [
        "# Standardize the target variable\n",
        "target_scaler = StandardScaler()\n",
        "y_train_scaled = target_scaler.fit_transform(y_train_array)\n",
        "y_test_scaled = target_scaler.transform(y_test_array)"
      ],
      "metadata": {
        "id": "QQkYqtjd_iKM"
      },
      "execution_count": null,
      "outputs": []
    },
    {
      "cell_type": "code",
      "source": [
        "# Create the neural network model\n",
        "model = Sequential()\n",
        "model.add(Dense(64, activation='relu', input_shape=(len(X),)))\n",
        "model.add(Dense(16, activation='relu'))\n",
        "model.add(Dense(1, activation='linear'))"
      ],
      "metadata": {
        "id": "YjrTvftC6pjD"
      },
      "execution_count": null,
      "outputs": []
    },
    {
      "cell_type": "code",
      "source": [
        "# Assuming your input data is stored in train_scaled with shape (num_samples, 33)\n",
        "num_features = train_scaled.shape[1]\n",
        "train_scaled_reshaped = np.reshape(train_scaled, (train_scaled.shape[0], num_features))\n",
        "\n",
        "# Update the input shape of the first layer in your model to match the number of features\n",
        "model = Sequential()\n",
        "model.add(Dense(64, input_shape=(num_features,)))"
      ],
      "metadata": {
        "id": "-3RKYSJ_7Bxc"
      },
      "execution_count": null,
      "outputs": []
    },
    {
      "cell_type": "code",
      "source": [
        "# Compile the model\n",
        "model.compile(loss='mean_squared_error', optimizer='adam')"
      ],
      "metadata": {
        "id": "Of2JQx2ZCj7k"
      },
      "execution_count": null,
      "outputs": []
    },
    {
      "cell_type": "code",
      "source": [
        "# Train the model\n",
        "model.fit(train_scaled, y_train_scaled , epochs=100, batch_size=100)"
      ],
      "metadata": {
        "colab": {
          "base_uri": "https://localhost:8080/"
        },
        "id": "uyZxWofO7F3X",
        "outputId": "cc6f3f43-f9f2-4f61-a334-db98b6afb0d9"
      },
      "execution_count": null,
      "outputs": [
        {
          "output_type": "stream",
          "name": "stdout",
          "text": [
            "Epoch 1/100\n",
            "158/158 [==============================] - 1s 2ms/step - loss: 1.1814\n",
            "Epoch 2/100\n",
            "158/158 [==============================] - 0s 2ms/step - loss: 0.9451\n",
            "Epoch 3/100\n",
            "158/158 [==============================] - 0s 2ms/step - loss: 0.9003\n",
            "Epoch 4/100\n",
            "158/158 [==============================] - 0s 2ms/step - loss: 0.8825\n",
            "Epoch 5/100\n",
            "158/158 [==============================] - 0s 2ms/step - loss: 0.8720\n",
            "Epoch 6/100\n",
            "158/158 [==============================] - 0s 2ms/step - loss: 0.8644\n",
            "Epoch 7/100\n",
            "158/158 [==============================] - 0s 2ms/step - loss: 0.8591\n",
            "Epoch 8/100\n",
            "158/158 [==============================] - 0s 2ms/step - loss: 0.8543\n",
            "Epoch 9/100\n",
            "158/158 [==============================] - 0s 2ms/step - loss: 0.8509\n",
            "Epoch 10/100\n",
            "158/158 [==============================] - 0s 2ms/step - loss: 0.8480\n",
            "Epoch 11/100\n",
            "158/158 [==============================] - 0s 2ms/step - loss: 0.8464\n",
            "Epoch 12/100\n",
            "158/158 [==============================] - 0s 3ms/step - loss: 0.8443\n",
            "Epoch 13/100\n",
            "158/158 [==============================] - 0s 3ms/step - loss: 0.8425\n",
            "Epoch 14/100\n",
            "158/158 [==============================] - 0s 3ms/step - loss: 0.8408\n",
            "Epoch 15/100\n",
            "158/158 [==============================] - 0s 3ms/step - loss: 0.8401\n",
            "Epoch 16/100\n",
            "158/158 [==============================] - 0s 3ms/step - loss: 0.8395\n",
            "Epoch 17/100\n",
            "158/158 [==============================] - 0s 3ms/step - loss: 0.8381\n",
            "Epoch 18/100\n",
            "158/158 [==============================] - 0s 3ms/step - loss: 0.8374\n",
            "Epoch 19/100\n",
            "158/158 [==============================] - 0s 2ms/step - loss: 0.8373\n",
            "Epoch 20/100\n",
            "158/158 [==============================] - 0s 2ms/step - loss: 0.8360\n",
            "Epoch 21/100\n",
            "158/158 [==============================] - 0s 2ms/step - loss: 0.8359\n",
            "Epoch 22/100\n",
            "158/158 [==============================] - 0s 2ms/step - loss: 0.8349\n",
            "Epoch 23/100\n",
            "158/158 [==============================] - 0s 2ms/step - loss: 0.8347\n",
            "Epoch 24/100\n",
            "158/158 [==============================] - 0s 2ms/step - loss: 0.8346\n",
            "Epoch 25/100\n",
            "158/158 [==============================] - 0s 2ms/step - loss: 0.8339\n",
            "Epoch 26/100\n",
            "158/158 [==============================] - 0s 2ms/step - loss: 0.8341\n",
            "Epoch 27/100\n",
            "158/158 [==============================] - 0s 2ms/step - loss: 0.8333\n",
            "Epoch 28/100\n",
            "158/158 [==============================] - 0s 2ms/step - loss: 0.8331\n",
            "Epoch 29/100\n",
            "158/158 [==============================] - 0s 2ms/step - loss: 0.8329\n",
            "Epoch 30/100\n",
            "158/158 [==============================] - 0s 2ms/step - loss: 0.8327\n",
            "Epoch 31/100\n",
            "158/158 [==============================] - 0s 2ms/step - loss: 0.8324\n",
            "Epoch 32/100\n",
            "158/158 [==============================] - 0s 2ms/step - loss: 0.8324\n",
            "Epoch 33/100\n",
            "158/158 [==============================] - 0s 2ms/step - loss: 0.8322\n",
            "Epoch 34/100\n",
            "158/158 [==============================] - 0s 2ms/step - loss: 0.8321\n",
            "Epoch 35/100\n",
            "158/158 [==============================] - 0s 2ms/step - loss: 0.8320\n",
            "Epoch 36/100\n",
            "158/158 [==============================] - 0s 2ms/step - loss: 0.8318\n",
            "Epoch 37/100\n",
            "158/158 [==============================] - 0s 2ms/step - loss: 0.8316\n",
            "Epoch 38/100\n",
            "158/158 [==============================] - 0s 2ms/step - loss: 0.8316\n",
            "Epoch 39/100\n",
            "158/158 [==============================] - 0s 2ms/step - loss: 0.8316\n",
            "Epoch 40/100\n",
            "158/158 [==============================] - 0s 2ms/step - loss: 0.8310\n",
            "Epoch 41/100\n",
            "158/158 [==============================] - 0s 2ms/step - loss: 0.8314\n",
            "Epoch 42/100\n",
            "158/158 [==============================] - 0s 2ms/step - loss: 0.8316\n",
            "Epoch 43/100\n",
            "158/158 [==============================] - 0s 2ms/step - loss: 0.8313\n",
            "Epoch 44/100\n",
            "158/158 [==============================] - 0s 2ms/step - loss: 0.8314\n",
            "Epoch 45/100\n",
            "158/158 [==============================] - 0s 2ms/step - loss: 0.8311\n",
            "Epoch 46/100\n",
            "158/158 [==============================] - 0s 2ms/step - loss: 0.8315\n",
            "Epoch 47/100\n",
            "158/158 [==============================] - 0s 2ms/step - loss: 0.8307\n",
            "Epoch 48/100\n",
            "158/158 [==============================] - 0s 2ms/step - loss: 0.8315\n",
            "Epoch 49/100\n",
            "158/158 [==============================] - 0s 2ms/step - loss: 0.8314\n",
            "Epoch 50/100\n",
            "158/158 [==============================] - 0s 2ms/step - loss: 0.8304\n",
            "Epoch 51/100\n",
            "158/158 [==============================] - 0s 2ms/step - loss: 0.8311\n",
            "Epoch 52/100\n",
            "158/158 [==============================] - 0s 2ms/step - loss: 0.8307\n",
            "Epoch 53/100\n",
            "158/158 [==============================] - 0s 2ms/step - loss: 0.8312\n",
            "Epoch 54/100\n",
            "158/158 [==============================] - 0s 2ms/step - loss: 0.8306\n",
            "Epoch 55/100\n",
            "158/158 [==============================] - 0s 2ms/step - loss: 0.8301\n",
            "Epoch 56/100\n",
            "158/158 [==============================] - 0s 3ms/step - loss: 0.8306\n",
            "Epoch 57/100\n",
            "158/158 [==============================] - 0s 3ms/step - loss: 0.8309\n",
            "Epoch 58/100\n",
            "158/158 [==============================] - 0s 2ms/step - loss: 0.8305\n",
            "Epoch 59/100\n",
            "158/158 [==============================] - 0s 3ms/step - loss: 0.8310\n",
            "Epoch 60/100\n",
            "158/158 [==============================] - 0s 3ms/step - loss: 0.8305\n",
            "Epoch 61/100\n",
            "158/158 [==============================] - 0s 2ms/step - loss: 0.8304\n",
            "Epoch 62/100\n",
            "158/158 [==============================] - 0s 2ms/step - loss: 0.8304\n",
            "Epoch 63/100\n",
            "158/158 [==============================] - 0s 2ms/step - loss: 0.8300\n",
            "Epoch 64/100\n",
            "158/158 [==============================] - 0s 2ms/step - loss: 0.8299\n",
            "Epoch 65/100\n",
            "158/158 [==============================] - 0s 2ms/step - loss: 0.8302\n",
            "Epoch 66/100\n",
            "158/158 [==============================] - 0s 2ms/step - loss: 0.8299\n",
            "Epoch 67/100\n",
            "158/158 [==============================] - 0s 2ms/step - loss: 0.8300\n",
            "Epoch 68/100\n",
            "158/158 [==============================] - 0s 2ms/step - loss: 0.8300\n",
            "Epoch 69/100\n",
            "158/158 [==============================] - 0s 2ms/step - loss: 0.8302\n",
            "Epoch 70/100\n",
            "158/158 [==============================] - 0s 2ms/step - loss: 0.8303\n",
            "Epoch 71/100\n",
            "158/158 [==============================] - 0s 2ms/step - loss: 0.8297\n",
            "Epoch 72/100\n",
            "158/158 [==============================] - 0s 2ms/step - loss: 0.8303\n",
            "Epoch 73/100\n",
            "158/158 [==============================] - 0s 2ms/step - loss: 0.8297\n",
            "Epoch 74/100\n",
            "158/158 [==============================] - 0s 2ms/step - loss: 0.8306\n",
            "Epoch 75/100\n",
            "158/158 [==============================] - 0s 2ms/step - loss: 0.8296\n",
            "Epoch 76/100\n",
            "158/158 [==============================] - 0s 2ms/step - loss: 0.8299\n",
            "Epoch 77/100\n",
            "158/158 [==============================] - 0s 2ms/step - loss: 0.8296\n",
            "Epoch 78/100\n",
            "158/158 [==============================] - 0s 2ms/step - loss: 0.8297\n",
            "Epoch 79/100\n",
            "158/158 [==============================] - 0s 2ms/step - loss: 0.8303\n",
            "Epoch 80/100\n",
            "158/158 [==============================] - 0s 2ms/step - loss: 0.8296\n",
            "Epoch 81/100\n",
            "158/158 [==============================] - 0s 2ms/step - loss: 0.8302\n",
            "Epoch 82/100\n",
            "158/158 [==============================] - 0s 2ms/step - loss: 0.8300\n",
            "Epoch 83/100\n",
            "158/158 [==============================] - 0s 2ms/step - loss: 0.8300\n",
            "Epoch 84/100\n",
            "158/158 [==============================] - 0s 2ms/step - loss: 0.8301\n",
            "Epoch 85/100\n",
            "158/158 [==============================] - 0s 2ms/step - loss: 0.8299\n",
            "Epoch 86/100\n",
            "158/158 [==============================] - 0s 2ms/step - loss: 0.8298\n",
            "Epoch 87/100\n",
            "158/158 [==============================] - 0s 2ms/step - loss: 0.8294\n",
            "Epoch 88/100\n",
            "158/158 [==============================] - 0s 2ms/step - loss: 0.8292\n",
            "Epoch 89/100\n",
            "158/158 [==============================] - 0s 2ms/step - loss: 0.8296\n",
            "Epoch 90/100\n",
            "158/158 [==============================] - 0s 2ms/step - loss: 0.8295\n",
            "Epoch 91/100\n",
            "158/158 [==============================] - 0s 2ms/step - loss: 0.8300\n",
            "Epoch 92/100\n",
            "158/158 [==============================] - 0s 2ms/step - loss: 0.8302\n",
            "Epoch 93/100\n",
            "158/158 [==============================] - 0s 2ms/step - loss: 0.8295\n",
            "Epoch 94/100\n",
            "158/158 [==============================] - 0s 2ms/step - loss: 0.8296\n",
            "Epoch 95/100\n",
            "158/158 [==============================] - 0s 2ms/step - loss: 0.8294\n",
            "Epoch 96/100\n",
            "158/158 [==============================] - 0s 2ms/step - loss: 0.8309\n",
            "Epoch 97/100\n",
            "158/158 [==============================] - 0s 3ms/step - loss: 0.8298\n",
            "Epoch 98/100\n",
            "158/158 [==============================] - 0s 3ms/step - loss: 0.8293\n",
            "Epoch 99/100\n",
            "158/158 [==============================] - 0s 3ms/step - loss: 0.8297\n",
            "Epoch 100/100\n",
            "158/158 [==============================] - 0s 3ms/step - loss: 0.8297\n"
          ]
        },
        {
          "output_type": "execute_result",
          "data": {
            "text/plain": [
              "<keras.callbacks.History at 0x7f6a1b360790>"
            ]
          },
          "metadata": {},
          "execution_count": 68
        }
      ]
    },
    {
      "cell_type": "code",
      "source": [
        "# Evaluate the model\n",
        "mse = model.evaluate(test_scaled, y_test_scaled)\n",
        "print(\"Mean Squared Error:\", mse)"
      ],
      "metadata": {
        "colab": {
          "base_uri": "https://localhost:8080/"
        },
        "id": "dHk5WRQh-Wl1",
        "outputId": "ab88a771-16cf-4876-e430-372a2d8c8f3d"
      },
      "execution_count": null,
      "outputs": [
        {
          "output_type": "stream",
          "name": "stdout",
          "text": [
            "124/124 [==============================] - 0s 1ms/step - loss: 0.7989\n",
            "Mean Squared Error: 0.7988712787628174\n"
          ]
        }
      ]
    },
    {
      "cell_type": "markdown",
      "source": [
        "The performance of the model appears to be excellent based on MSE as a metric, since MSE is closely enough to zero, meaning that model's predictions are closer to the actual values."
      ],
      "metadata": {
        "id": "RNXumDO8GQSU"
      }
    },
    {
      "cell_type": "code",
      "source": [],
      "metadata": {
        "id": "wUIK22QsDmKw"
      },
      "execution_count": null,
      "outputs": []
    }
  ]
}